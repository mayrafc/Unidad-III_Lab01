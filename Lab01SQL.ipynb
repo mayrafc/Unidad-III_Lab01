{
    "metadata": {
        "kernelspec": {
            "name": "SQL",
            "display_name": "SQL",
            "language": "sql"
        },
        "language_info": {
            "name": "sql",
            "version": ""
        }
    },
    "nbformat_minor": 2,
    "nbformat": 4,
    "cells": [
        {
            "cell_type": "markdown",
            "source": [
                "<H1><center>LABORATORIO N° 01: UTILIZANDO EXPRESIONES DE TABLA"
            ],
            "metadata": {
                "azdata_cell_guid": "7b3dee29-b50e-422e-b3fb-f48b2061c4c1"
            }
        },
        {
            "cell_type": "markdown",
            "source": [
                "<h2><b>Objetivo:</b></h2>\r\n",
                "* Aplicar los conocimientos asimilados sobre Expresiones de tabla regulares"
            ],
            "metadata": {
                "azdata_cell_guid": "29744702-cc82-486d-bdc2-bb7c7d93d005"
            }
        },
        {
            "cell_type": "markdown",
            "source": [
                "1. <b><u>Utilizando Vistas</u></b>"
            ],
            "metadata": {
                "azdata_cell_guid": "b980556b-ce64-48ca-bf90-ebea4e201733"
            }
        },
        {
            "cell_type": "markdown",
            "source": [
                "1.1. Accediendo a la base de datos TSQL"
            ],
            "metadata": {
                "azdata_cell_guid": "c23728e6-c690-40c0-b265-0d357bd908c6"
            }
        },
        {
            "cell_type": "code",
            "source": [
                "USE TSQL;\r\n",
                "GO"
            ],
            "metadata": {
                "azdata_cell_guid": "98dd6cf2-f089-45e0-8ba8-688e45df6cdb",
                "language": "sql"
            },
            "outputs": [
                {
                    "output_type": "display_data",
                    "data": {
                        "text/html": "Commands completed successfully."
                    },
                    "metadata": {}
                },
                {
                    "output_type": "display_data",
                    "data": {
                        "text/html": "Total execution time: 00:00:00.006"
                    },
                    "metadata": {}
                }
            ],
            "execution_count": 2
        },
        {
            "cell_type": "markdown",
            "source": [
                "1.2. Escribir una sentencia SELECT para devolver las columnas productid, productname, supplierid, unitprice y\r\n",
                "discontinued de la tabla Production.Products. Filtrar los resultados para incluir solo los productos que pertenezcana a la categoría Beverages (categoryid = 1)"
            ],
            "metadata": {
                "azdata_cell_guid": "057e0360-df5d-4e23-a3f2-f389f0a0fc58"
            }
        },
        {
            "cell_type": "code",
            "source": [
                "SELECT productid, productname, supplierid, unitprice, discontinued\r\n",
                "FROM Production.Products\r\n",
                "WHERE categoryid = 1;"
            ],
            "metadata": {
                "azdata_cell_guid": "1d603896-ad30-488c-b2dc-79d6c880b7bd",
                "tags": [],
                "language": "sql"
            },
            "outputs": [
                {
                    "output_type": "display_data",
                    "data": {
                        "text/html": "(12 rows affected)"
                    },
                    "metadata": {}
                },
                {
                    "output_type": "display_data",
                    "data": {
                        "text/html": "Total execution time: 00:00:00.207"
                    },
                    "metadata": {}
                },
                {
                    "output_type": "execute_result",
                    "metadata": {},
                    "execution_count": 3,
                    "data": {
                        "application/vnd.dataresource+json": {
                            "schema": {
                                "fields": [
                                    {
                                        "name": "productid"
                                    },
                                    {
                                        "name": "productname"
                                    },
                                    {
                                        "name": "supplierid"
                                    },
                                    {
                                        "name": "unitprice"
                                    },
                                    {
                                        "name": "discontinued"
                                    }
                                ]
                            },
                            "data": [
                                {
                                    "productid": "1",
                                    "productname": "Product HHYDP",
                                    "supplierid": "1",
                                    "unitprice": "18.00",
                                    "discontinued": "0"
                                },
                                {
                                    "productid": "2",
                                    "productname": "Product RECZE",
                                    "supplierid": "1",
                                    "unitprice": "19.00",
                                    "discontinued": "0"
                                },
                                {
                                    "productid": "24",
                                    "productname": "Product QOGNU",
                                    "supplierid": "10",
                                    "unitprice": "4.50",
                                    "discontinued": "1"
                                },
                                {
                                    "productid": "34",
                                    "productname": "Product SWNJY",
                                    "supplierid": "16",
                                    "unitprice": "14.00",
                                    "discontinued": "0"
                                },
                                {
                                    "productid": "35",
                                    "productname": "Product NEVTJ",
                                    "supplierid": "16",
                                    "unitprice": "18.00",
                                    "discontinued": "0"
                                },
                                {
                                    "productid": "38",
                                    "productname": "Product QDOMO",
                                    "supplierid": "18",
                                    "unitprice": "263.50",
                                    "discontinued": "0"
                                },
                                {
                                    "productid": "39",
                                    "productname": "Product LSOFL",
                                    "supplierid": "18",
                                    "unitprice": "18.00",
                                    "discontinued": "0"
                                },
                                {
                                    "productid": "43",
                                    "productname": "Product ZZZHR",
                                    "supplierid": "20",
                                    "unitprice": "46.00",
                                    "discontinued": "0"
                                },
                                {
                                    "productid": "67",
                                    "productname": "Product XLXQF",
                                    "supplierid": "16",
                                    "unitprice": "14.00",
                                    "discontinued": "0"
                                },
                                {
                                    "productid": "70",
                                    "productname": "Product TOONT",
                                    "supplierid": "7",
                                    "unitprice": "15.00",
                                    "discontinued": "0"
                                },
                                {
                                    "productid": "75",
                                    "productname": "Product BWRLG",
                                    "supplierid": "12",
                                    "unitprice": "7.75",
                                    "discontinued": "0"
                                },
                                {
                                    "productid": "76",
                                    "productname": "Product JYGFE",
                                    "supplierid": "23",
                                    "unitprice": "18.00",
                                    "discontinued": "0"
                                }
                            ]
                        },
                        "text/html": [
                            "<table>",
                            "<tr><th>productid</th><th>productname</th><th>supplierid</th><th>unitprice</th><th>discontinued</th></tr>",
                            "<tr><td>1</td><td>Product HHYDP</td><td>1</td><td>18.00</td><td>0</td></tr>",
                            "<tr><td>2</td><td>Product RECZE</td><td>1</td><td>19.00</td><td>0</td></tr>",
                            "<tr><td>24</td><td>Product QOGNU</td><td>10</td><td>4.50</td><td>1</td></tr>",
                            "<tr><td>34</td><td>Product SWNJY</td><td>16</td><td>14.00</td><td>0</td></tr>",
                            "<tr><td>35</td><td>Product NEVTJ</td><td>16</td><td>18.00</td><td>0</td></tr>",
                            "<tr><td>38</td><td>Product QDOMO</td><td>18</td><td>263.50</td><td>0</td></tr>",
                            "<tr><td>39</td><td>Product LSOFL</td><td>18</td><td>18.00</td><td>0</td></tr>",
                            "<tr><td>43</td><td>Product ZZZHR</td><td>20</td><td>46.00</td><td>0</td></tr>",
                            "<tr><td>67</td><td>Product XLXQF</td><td>16</td><td>14.00</td><td>0</td></tr>",
                            "<tr><td>70</td><td>Product TOONT</td><td>7</td><td>15.00</td><td>0</td></tr>",
                            "<tr><td>75</td><td>Product BWRLG</td><td>12</td><td>7.75</td><td>0</td></tr>",
                            "<tr><td>76</td><td>Product JYGFE</td><td>23</td><td>18.00</td><td>0</td></tr>",
                            "</table>"
                        ]
                    }
                }
            ],
            "execution_count": 3
        },
        {
            "cell_type": "markdown",
            "source": [
                "1.3. Modificar al sentencia T-SQL para incluir el siguiente código. Colocar esta sentencia antes de la clausula SELECT:"
            ],
            "metadata": {
                "azdata_cell_guid": "a7ace022-d398-43f5-adc4-347392bc039f"
            }
        },
        {
            "cell_type": "code",
            "source": [
                "CREATE VIEW Production.ProductsBeverages AS\r\n",
                "SELECT productid, productname, supplierid, unitprice, discontinued\r\n",
                "FROM Production.Products\r\n",
                "WHERE categoryid = 1;"
            ],
            "metadata": {
                "azdata_cell_guid": "86e964f9-4ddf-4697-95cd-2a960eea0189",
                "language": "sql"
            },
            "outputs": [
                {
                    "output_type": "display_data",
                    "data": {
                        "text/html": "Commands completed successfully."
                    },
                    "metadata": {}
                },
                {
                    "output_type": "display_data",
                    "data": {
                        "text/html": "Total execution time: 00:00:00.150"
                    },
                    "metadata": {}
                }
            ],
            "execution_count": 4
        },
        {
            "cell_type": "markdown",
            "source": [
                "1.4. Escribir una sentencia SELECT para devolver las columnas productid y productname de la vista Production.ProductsBeverages. Filtrar los resultados para incluir solo productos donde supplierid = 1"
            ],
            "metadata": {
                "azdata_cell_guid": "bed83f21-1431-4777-bfef-45f0af970628"
            }
        },
        {
            "cell_type": "code",
            "source": [
                "SELECT productid, productname\r\n",
                "FROM Production.ProductsBeverages\r\n",
                "WHERE supplierid = 1;"
            ],
            "metadata": {
                "azdata_cell_guid": "8919d918-fc92-4cb4-b27d-39c09a688c4d",
                "language": "sql"
            },
            "outputs": [
                {
                    "output_type": "display_data",
                    "data": {
                        "text/html": "(2 rows affected)"
                    },
                    "metadata": {}
                },
                {
                    "output_type": "display_data",
                    "data": {
                        "text/html": "Total execution time: 00:00:00.020"
                    },
                    "metadata": {}
                },
                {
                    "output_type": "execute_result",
                    "metadata": {},
                    "execution_count": 5,
                    "data": {
                        "application/vnd.dataresource+json": {
                            "schema": {
                                "fields": [
                                    {
                                        "name": "productid"
                                    },
                                    {
                                        "name": "productname"
                                    }
                                ]
                            },
                            "data": [
                                {
                                    "productid": "1",
                                    "productname": "Product HHYDP"
                                },
                                {
                                    "productid": "2",
                                    "productname": "Product RECZE"
                                }
                            ]
                        },
                        "text/html": [
                            "<table>",
                            "<tr><th>productid</th><th>productname</th></tr>",
                            "<tr><td>1</td><td>Product HHYDP</td></tr>",
                            "<tr><td>2</td><td>Product RECZE</td></tr>",
                            "</table>"
                        ]
                    }
                }
            ],
            "execution_count": 5
        },
        {
            "cell_type": "markdown",
            "source": [
                "1.5. El departamento de TI ha escrito una sentencia T-SQL que añade una columna calculada a la vista."
            ],
            "metadata": {
                "azdata_cell_guid": "042177d8-531f-4bfa-b659-3de65fb43b10"
            }
        },
        {
            "cell_type": "code",
            "source": [
                "ALTER VIEW Production.ProductsBeverages AS\r\n",
                "SELECT\r\n",
                "    productid, \r\n",
                "    productname, \r\n",
                "    supplierid, \r\n",
                "    unitprice, \r\n",
                "    discontinued,\r\n",
                "    CASE \r\n",
                "        WHEN unitprice > 100 THEN N'high' \r\n",
                "        ELSE N'normal' \r\n",
                "    END AS pricetype\r\n",
                "FROM Production.Products\r\n",
                "WHERE categoryid = 1;"
            ],
            "metadata": {
                "azdata_cell_guid": "c8b6781b-e5be-452d-80d3-5a6d22c58bd1",
                "language": "sql"
            },
            "outputs": [
                {
                    "output_type": "display_data",
                    "data": {
                        "text/html": "Commands completed successfully."
                    },
                    "metadata": {}
                },
                {
                    "output_type": "display_data",
                    "data": {
                        "text/html": "Total execution time: 00:00:00.015"
                    },
                    "metadata": {}
                }
            ],
            "execution_count": 6
        },
        {
            "cell_type": "markdown",
            "source": [
                "1.6. Aplicar los cambios necesario para que la sentencia T-SQL statement se ejecute correctamente."
            ],
            "metadata": {
                "azdata_cell_guid": "0b3ae01e-56fc-4dcc-be22-1c91adacb12d"
            }
        },
        {
            "cell_type": "code",
            "source": [
                "ALTER VIEW Production.ProductsBeverages AS\r\n",
                "SELECT\r\n",
                "    productid, \r\n",
                "    productname, \r\n",
                "    supplierid, \r\n",
                "    unitprice, \r\n",
                "    discontinued,\r\n",
                "    CASE \r\n",
                "        WHEN unitprice > 100 THEN N'high' \r\n",
                "        ELSE N'normal' \r\n",
                "    END AS pricetype\r\n",
                "FROM Production.Products\r\n",
                "WHERE categoryid = 1;"
            ],
            "metadata": {
                "azdata_cell_guid": "955673f2-25e0-4e96-920e-832886343097",
                "language": "sql"
            },
            "outputs": [
                {
                    "output_type": "display_data",
                    "data": {
                        "text/html": "Commands completed successfully."
                    },
                    "metadata": {}
                },
                {
                    "output_type": "display_data",
                    "data": {
                        "text/html": "Total execution time: 00:00:00.016"
                    },
                    "metadata": {}
                }
            ],
            "execution_count": 7
        },
        {
            "cell_type": "markdown",
            "source": [
                "2. <b><u>Utilizando utilizando Tablas Derivadas</u></b>"
            ],
            "metadata": {
                "azdata_cell_guid": "9fcdfc78-c5a3-4d76-9e5a-69e415002db5"
            }
        },
        {
            "cell_type": "markdown",
            "source": [
                "2.1. Escribir una sentencia SELECT contra una tabla derivada y retornar las columnas productid y productname. Filtrar los resultados para incluir solo las filas en las cuales el valor de la columna pricetype es igual a high. Usar la sentencia SELECT del ejericio 1, paso 4, como la la consulta inner que define la tabla derivada. No olvidar usar el alias para la tabla derivada. (Ypuede usar el alias “p”.)"
            ],
            "metadata": {
                "azdata_cell_guid": "511f8eba-1091-4d5c-b4da-6eb3946a7bbd"
            }
        },
        {
            "cell_type": "code",
            "source": [
                "SELECT p.productid, p.productname\r\n",
                "FROM (\r\n",
                "    SELECT productid, productname, supplierid, unitprice, discontinued,\r\n",
                "           CASE WHEN unitprice > 100 THEN N'high' ELSE N'normal' END AS pricetype\r\n",
                "    FROM Production.Products\r\n",
                "    WHERE categoryid = 1\r\n",
                ") AS p\r\n",
                "WHERE p.pricetype = 'high';"
            ],
            "metadata": {
                "azdata_cell_guid": "f9a1bb71-fb95-4caf-a51a-c2074a46ff56",
                "language": "sql"
            },
            "outputs": [
                {
                    "output_type": "display_data",
                    "data": {
                        "text/html": "(1 row affected)"
                    },
                    "metadata": {}
                },
                {
                    "output_type": "display_data",
                    "data": {
                        "text/html": "Total execution time: 00:00:00.023"
                    },
                    "metadata": {}
                },
                {
                    "output_type": "execute_result",
                    "metadata": {},
                    "execution_count": 8,
                    "data": {
                        "application/vnd.dataresource+json": {
                            "schema": {
                                "fields": [
                                    {
                                        "name": "productid"
                                    },
                                    {
                                        "name": "productname"
                                    }
                                ]
                            },
                            "data": [
                                {
                                    "productid": "38",
                                    "productname": "Product QDOMO"
                                }
                            ]
                        },
                        "text/html": [
                            "<table>",
                            "<tr><th>productid</th><th>productname</th></tr>",
                            "<tr><td>38</td><td>Product QDOMO</td></tr>",
                            "</table>"
                        ]
                    }
                }
            ],
            "execution_count": 8
        },
        {
            "cell_type": "markdown",
            "source": [
                "2.2. Escribir una sentencia SELECT para devolver la columna custid y dos columnas calculadas:\r\n",
                "totalsalesamount, la cual retornará el total de ventas por cliente y avgsalesamount, la cual devolvera el monto promedio de ventas de las ordenes por cliente. Para calcular correctamente el monto promedio de ventas de las ordenes por cliente, primero debera calcular el monto total de ventas por orden. Se puede definir una tabla derivada basado en una consulta que enlace las tablas Sales.Orders y Sales.OrderDetails. Usar las columnas custid y orderid de la tabla Sales.Orders y las columnas qty y unitprice de la tabla  Sales.OrderDetails."
            ],
            "metadata": {
                "azdata_cell_guid": "f5681774-ff98-4b62-9315-e46dd92dccb1"
            }
        },
        {
            "cell_type": "code",
            "source": [
                "SELECT custid, SUM(salesamount) AS totalsalesamount, AVG(salesamount) AS avgsalesamount\r\n",
                "FROM (\r\n",
                "    SELECT o.custid, o.orderid, od.qty * od.unitprice AS salesamount\r\n",
                "    FROM Sales.Orders o\r\n",
                "    JOIN Sales.OrderDetails od ON o.orderid = od.orderid\r\n",
                ") AS sales\r\n",
                "GROUP BY custid;"
            ],
            "metadata": {
                "azdata_cell_guid": "49b7a77b-a8c9-4275-9a40-8ca1d5e0ec1a",
                "language": "sql"
            },
            "outputs": [
                {
                    "output_type": "display_data",
                    "data": {
                        "text/html": "(89 rows affected)"
                    },
                    "metadata": {}
                },
                {
                    "output_type": "display_data",
                    "data": {
                        "text/html": "Total execution time: 00:00:00.071"
                    },
                    "metadata": {}
                },
                {
                    "output_type": "execute_result",
                    "metadata": {},
                    "execution_count": 9,
                    "data": {
                        "application/vnd.dataresource+json": {
                            "schema": {
                                "fields": [
                                    {
                                        "name": "custid"
                                    },
                                    {
                                        "name": "totalsalesamount"
                                    },
                                    {
                                        "name": "avgsalesamount"
                                    }
                                ]
                            },
                            "data": [
                                {
                                    "custid": "23",
                                    "totalsalesamount": "11666.90",
                                    "avgsalesamount": "729.1812"
                                },
                                {
                                    "custid": "46",
                                    "totalsalesamount": "17825.06",
                                    "avgsalesamount": "524.2664"
                                },
                                {
                                    "custid": "69",
                                    "totalsalesamount": "1467.29",
                                    "avgsalesamount": "104.8064"
                                },
                                {
                                    "custid": "29",
                                    "totalsalesamount": "836.70",
                                    "avgsalesamount": "104.5875"
                                },
                                {
                                    "custid": "75",
                                    "totalsalesamount": "12489.70",
                                    "avgsalesamount": "624.485"
                                },
                                {
                                    "custid": "15",
                                    "totalsalesamount": "3810.75",
                                    "avgsalesamount": "381.075"
                                },
                                {
                                    "custid": "9",
                                    "totalsalesamount": "23850.95",
                                    "avgsalesamount": "542.067"
                                },
                                {
                                    "custid": "89",
                                    "totalsalesamount": "29073.45",
                                    "avgsalesamount": "726.8362"
                                },
                                {
                                    "custid": "3",
                                    "totalsalesamount": "7515.35",
                                    "avgsalesamount": "442.0794"
                                },
                                {
                                    "custid": "52",
                                    "totalsalesamount": "5042.20",
                                    "avgsalesamount": "458.3818"
                                },
                                {
                                    "custid": "72",
                                    "totalsalesamount": "17172.05",
                                    "avgsalesamount": "660.4634"
                                },
                                {
                                    "custid": "66",
                                    "totalsalesamount": "7555.60",
                                    "avgsalesamount": "343.4363"
                                },
                                {
                                    "custid": "78",
                                    "totalsalesamount": "1947.24",
                                    "avgsalesamount": "243.405"
                                },
                                {
                                    "custid": "32",
                                    "totalsalesamount": "19711.13",
                                    "avgsalesamount": "895.9604"
                                },
                                {
                                    "custid": "26",
                                    "totalsalesamount": "3172.16",
                                    "avgsalesamount": "528.6933"
                                },
                                {
                                    "custid": "12",
                                    "totalsalesamount": "1814.80",
                                    "avgsalesamount": "164.9818"
                                },
                                {
                                    "custid": "35",
                                    "totalsalesamount": "23611.58",
                                    "avgsalesamount": "524.7017"
                                },
                                {
                                    "custid": "86",
                                    "totalsalesamount": "10653.85",
                                    "avgsalesamount": "409.7634"
                                },
                                {
                                    "custid": "63",
                                    "totalsalesamount": "117483.39",
                                    "avgsalesamount": "1366.0859"
                                },
                                {
                                    "custid": "6",
                                    "totalsalesamount": "3239.80",
                                    "avgsalesamount": "231.4142"
                                },
                                {
                                    "custid": "55",
                                    "totalsalesamount": "16325.15",
                                    "avgsalesamount": "680.2145"
                                },
                                {
                                    "custid": "43",
                                    "totalsalesamount": "357.00",
                                    "avgsalesamount": "178.50"
                                },
                                {
                                    "custid": "49",
                                    "totalsalesamount": "7603.85",
                                    "avgsalesamount": "362.088"
                                },
                                {
                                    "custid": "67",
                                    "totalsalesamount": "12924.40",
                                    "avgsalesamount": "478.6814"
                                },
                                {
                                    "custid": "21",
                                    "totalsalesamount": "4438.90",
                                    "avgsalesamount": "233.6263"
                                },
                                {
                                    "custid": "27",
                                    "totalsalesamount": "1545.70",
                                    "avgsalesamount": "154.57"
                                },
                                {
                                    "custid": "58",
                                    "totalsalesamount": "4242.20",
                                    "avgsalesamount": "303.0142"
                                },
                                {
                                    "custid": "81",
                                    "totalsalesamount": "7310.62",
                                    "avgsalesamount": "562.3553"
                                },
                                {
                                    "custid": "64",
                                    "totalsalesamount": "2844.10",
                                    "avgsalesamount": "237.0083"
                                },
                                {
                                    "custid": "87",
                                    "totalsalesamount": "16617.10",
                                    "avgsalesamount": "449.1108"
                                },
                                {
                                    "custid": "38",
                                    "totalsalesamount": "6146.30",
                                    "avgsalesamount": "267.2304"
                                },
                                {
                                    "custid": "7",
                                    "totalsalesamount": "19088.00",
                                    "avgsalesamount": "734.1538"
                                },
                                {
                                    "custid": "44",
                                    "totalsalesamount": "21282.02",
                                    "avgsalesamount": "545.6928"
                                },
                                {
                                    "custid": "50",
                                    "totalsalesamount": "10430.58",
                                    "avgsalesamount": "613.5635"
                                },
                                {
                                    "custid": "1",
                                    "totalsalesamount": "4596.20",
                                    "avgsalesamount": "383.0166"
                                },
                                {
                                    "custid": "24",
                                    "totalsalesamount": "32555.55",
                                    "avgsalesamount": "723.4566"
                                },
                                {
                                    "custid": "47",
                                    "totalsalesamount": "17889.55",
                                    "avgsalesamount": "511.13"
                                },
                                {
                                    "custid": "70",
                                    "totalsalesamount": "5735.15",
                                    "avgsalesamount": "358.4468"
                                },
                                {
                                    "custid": "30",
                                    "totalsalesamount": "11830.10",
                                    "avgsalesamount": "455.0038"
                                },
                                {
                                    "custid": "18",
                                    "totalsalesamount": "1615.90",
                                    "avgsalesamount": "179.5444"
                                },
                                {
                                    "custid": "84",
                                    "totalsalesamount": "9937.10",
                                    "avgsalesamount": "397.484"
                                },
                                {
                                    "custid": "10",
                                    "totalsalesamount": "22607.70",
                                    "avgsalesamount": "645.9342"
                                },
                                {
                                    "custid": "61",
                                    "totalsalesamount": "6973.63",
                                    "avgsalesamount": "290.5679"
                                },
                                {
                                    "custid": "41",
                                    "totalsalesamount": "10272.35",
                                    "avgsalesamount": "331.3661"
                                },
                                {
                                    "custid": "90",
                                    "totalsalesamount": "3161.35",
                                    "avgsalesamount": "185.9617"
                                },
                                {
                                    "custid": "4",
                                    "totalsalesamount": "13806.50",
                                    "avgsalesamount": "460.2166"
                                },
                                {
                                    "custid": "65",
                                    "totalsalesamount": "52245.90",
                                    "avgsalesamount": "735.8577"
                                },
                                {
                                    "custid": "79",
                                    "totalsalesamount": "4954.00",
                                    "avgsalesamount": "353.8571"
                                },
                                {
                                    "custid": "19",
                                    "totalsalesamount": "15033.66",
                                    "avgsalesamount": "715.8885"
                                },
                                {
                                    "custid": "73",
                                    "totalsalesamount": "18138.45",
                                    "avgsalesamount": "1209.23"
                                },
                                {
                                    "custid": "25",
                                    "totalsalesamount": "28722.71",
                                    "avgsalesamount": "598.3897"
                                },
                                {
                                    "custid": "36",
                                    "totalsalesamount": "3063.20",
                                    "avgsalesamount": "340.3555"
                                },
                                {
                                    "custid": "85",
                                    "totalsalesamount": "1480.00",
                                    "avgsalesamount": "148.00"
                                },
                                {
                                    "custid": "13",
                                    "totalsalesamount": "100.80",
                                    "avgsalesamount": "50.40"
                                },
                                {
                                    "custid": "62",
                                    "totalsalesamount": "30226.10",
                                    "avgsalesamount": "755.6525"
                                },
                                {
                                    "custid": "42",
                                    "totalsalesamount": "522.50",
                                    "avgsalesamount": "65.3125"
                                },
                                {
                                    "custid": "5",
                                    "totalsalesamount": "26968.15",
                                    "avgsalesamount": "518.6182"
                                },
                                {
                                    "custid": "56",
                                    "totalsalesamount": "13157.50",
                                    "avgsalesamount": "453.7068"
                                },
                                {
                                    "custid": "76",
                                    "totalsalesamount": "24704.40",
                                    "avgsalesamount": "633.4461"
                                },
                                {
                                    "custid": "59",
                                    "totalsalesamount": "26259.95",
                                    "avgsalesamount": "1141.7369"
                                },
                                {
                                    "custid": "82",
                                    "totalsalesamount": "1571.20",
                                    "avgsalesamount": "174.5777"
                                },
                                {
                                    "custid": "33",
                                    "totalsalesamount": "1488.70",
                                    "avgsalesamount": "372.175"
                                },
                                {
                                    "custid": "39",
                                    "totalsalesamount": "31745.75",
                                    "avgsalesamount": "813.9935"
                                },
                                {
                                    "custid": "16",
                                    "totalsalesamount": "1719.10",
                                    "avgsalesamount": "245.5857"
                                },
                                {
                                    "custid": "88",
                                    "totalsalesamount": "6480.70",
                                    "avgsalesamount": "341.0894"
                                },
                                {
                                    "custid": "53",
                                    "totalsalesamount": "649.00",
                                    "avgsalesamount": "108.1666"
                                },
                                {
                                    "custid": "45",
                                    "totalsalesamount": "3490.02",
                                    "avgsalesamount": "349.002"
                                },
                                {
                                    "custid": "2",
                                    "totalsalesamount": "1402.95",
                                    "avgsalesamount": "140.295"
                                },
                                {
                                    "custid": "48",
                                    "totalsalesamount": "4258.60",
                                    "avgsalesamount": "304.1857"
                                },
                                {
                                    "custid": "71",
                                    "totalsalesamount": "115673.39",
                                    "avgsalesamount": "997.1843"
                                },
                                {
                                    "custid": "77",
                                    "totalsalesamount": "3361.00",
                                    "avgsalesamount": "480.1428"
                                },
                                {
                                    "custid": "17",
                                    "totalsalesamount": "3763.21",
                                    "avgsalesamount": "376.321"
                                },
                                {
                                    "custid": "31",
                                    "totalsalesamount": "8702.23",
                                    "avgsalesamount": "458.0121"
                                },
                                {
                                    "custid": "60",
                                    "totalsalesamount": "5317.10",
                                    "avgsalesamount": "531.71"
                                },
                                {
                                    "custid": "83",
                                    "totalsalesamount": "16643.80",
                                    "avgsalesamount": "536.8967"
                                },
                                {
                                    "custid": "34",
                                    "totalsalesamount": "34101.15",
                                    "avgsalesamount": "1065.6609"
                                },
                                {
                                    "custid": "40",
                                    "totalsalesamount": "1992.05",
                                    "avgsalesamount": "181.0954"
                                },
                                {
                                    "custid": "11",
                                    "totalsalesamount": "6089.90",
                                    "avgsalesamount": "276.8136"
                                },
                                {
                                    "custid": "54",
                                    "totalsalesamount": "3460.20",
                                    "avgsalesamount": "314.5636"
                                },
                                {
                                    "custid": "91",
                                    "totalsalesamount": "3531.95",
                                    "avgsalesamount": "220.7468"
                                },
                                {
                                    "custid": "20",
                                    "totalsalesamount": "113236.68",
                                    "avgsalesamount": "1110.1635"
                                },
                                {
                                    "custid": "68",
                                    "totalsalesamount": "20033.20",
                                    "avgsalesamount": "667.7733"
                                },
                                {
                                    "custid": "80",
                                    "totalsalesamount": "10812.15",
                                    "avgsalesamount": "372.8327"
                                },
                                {
                                    "custid": "28",
                                    "totalsalesamount": "7151.55",
                                    "avgsalesamount": "357.5775"
                                },
                                {
                                    "custid": "74",
                                    "totalsalesamount": "2423.35",
                                    "avgsalesamount": "403.8916"
                                },
                                {
                                    "custid": "14",
                                    "totalsalesamount": "12886.30",
                                    "avgsalesamount": "585.7409"
                                },
                                {
                                    "custid": "37",
                                    "totalsalesamount": "57317.39",
                                    "avgsalesamount": "1042.1343"
                                },
                                {
                                    "custid": "8",
                                    "totalsalesamount": "5297.80",
                                    "avgsalesamount": "882.9666"
                                },
                                {
                                    "custid": "51",
                                    "totalsalesamount": "32203.90",
                                    "avgsalesamount": "1006.3718"
                                }
                            ]
                        },
                        "text/html": [
                            "<table>",
                            "<tr><th>custid</th><th>totalsalesamount</th><th>avgsalesamount</th></tr>",
                            "<tr><td>23</td><td>11666.90</td><td>729.1812</td></tr>",
                            "<tr><td>46</td><td>17825.06</td><td>524.2664</td></tr>",
                            "<tr><td>69</td><td>1467.29</td><td>104.8064</td></tr>",
                            "<tr><td>29</td><td>836.70</td><td>104.5875</td></tr>",
                            "<tr><td>75</td><td>12489.70</td><td>624.485</td></tr>",
                            "<tr><td>15</td><td>3810.75</td><td>381.075</td></tr>",
                            "<tr><td>9</td><td>23850.95</td><td>542.067</td></tr>",
                            "<tr><td>89</td><td>29073.45</td><td>726.8362</td></tr>",
                            "<tr><td>3</td><td>7515.35</td><td>442.0794</td></tr>",
                            "<tr><td>52</td><td>5042.20</td><td>458.3818</td></tr>",
                            "<tr><td>72</td><td>17172.05</td><td>660.4634</td></tr>",
                            "<tr><td>66</td><td>7555.60</td><td>343.4363</td></tr>",
                            "<tr><td>78</td><td>1947.24</td><td>243.405</td></tr>",
                            "<tr><td>32</td><td>19711.13</td><td>895.9604</td></tr>",
                            "<tr><td>26</td><td>3172.16</td><td>528.6933</td></tr>",
                            "<tr><td>12</td><td>1814.80</td><td>164.9818</td></tr>",
                            "<tr><td>35</td><td>23611.58</td><td>524.7017</td></tr>",
                            "<tr><td>86</td><td>10653.85</td><td>409.7634</td></tr>",
                            "<tr><td>63</td><td>117483.39</td><td>1366.0859</td></tr>",
                            "<tr><td>6</td><td>3239.80</td><td>231.4142</td></tr>",
                            "<tr><td>55</td><td>16325.15</td><td>680.2145</td></tr>",
                            "<tr><td>43</td><td>357.00</td><td>178.50</td></tr>",
                            "<tr><td>49</td><td>7603.85</td><td>362.088</td></tr>",
                            "<tr><td>67</td><td>12924.40</td><td>478.6814</td></tr>",
                            "<tr><td>21</td><td>4438.90</td><td>233.6263</td></tr>",
                            "<tr><td>27</td><td>1545.70</td><td>154.57</td></tr>",
                            "<tr><td>58</td><td>4242.20</td><td>303.0142</td></tr>",
                            "<tr><td>81</td><td>7310.62</td><td>562.3553</td></tr>",
                            "<tr><td>64</td><td>2844.10</td><td>237.0083</td></tr>",
                            "<tr><td>87</td><td>16617.10</td><td>449.1108</td></tr>",
                            "<tr><td>38</td><td>6146.30</td><td>267.2304</td></tr>",
                            "<tr><td>7</td><td>19088.00</td><td>734.1538</td></tr>",
                            "<tr><td>44</td><td>21282.02</td><td>545.6928</td></tr>",
                            "<tr><td>50</td><td>10430.58</td><td>613.5635</td></tr>",
                            "<tr><td>1</td><td>4596.20</td><td>383.0166</td></tr>",
                            "<tr><td>24</td><td>32555.55</td><td>723.4566</td></tr>",
                            "<tr><td>47</td><td>17889.55</td><td>511.13</td></tr>",
                            "<tr><td>70</td><td>5735.15</td><td>358.4468</td></tr>",
                            "<tr><td>30</td><td>11830.10</td><td>455.0038</td></tr>",
                            "<tr><td>18</td><td>1615.90</td><td>179.5444</td></tr>",
                            "<tr><td>84</td><td>9937.10</td><td>397.484</td></tr>",
                            "<tr><td>10</td><td>22607.70</td><td>645.9342</td></tr>",
                            "<tr><td>61</td><td>6973.63</td><td>290.5679</td></tr>",
                            "<tr><td>41</td><td>10272.35</td><td>331.3661</td></tr>",
                            "<tr><td>90</td><td>3161.35</td><td>185.9617</td></tr>",
                            "<tr><td>4</td><td>13806.50</td><td>460.2166</td></tr>",
                            "<tr><td>65</td><td>52245.90</td><td>735.8577</td></tr>",
                            "<tr><td>79</td><td>4954.00</td><td>353.8571</td></tr>",
                            "<tr><td>19</td><td>15033.66</td><td>715.8885</td></tr>",
                            "<tr><td>73</td><td>18138.45</td><td>1209.23</td></tr>",
                            "<tr><td>25</td><td>28722.71</td><td>598.3897</td></tr>",
                            "<tr><td>36</td><td>3063.20</td><td>340.3555</td></tr>",
                            "<tr><td>85</td><td>1480.00</td><td>148.00</td></tr>",
                            "<tr><td>13</td><td>100.80</td><td>50.40</td></tr>",
                            "<tr><td>62</td><td>30226.10</td><td>755.6525</td></tr>",
                            "<tr><td>42</td><td>522.50</td><td>65.3125</td></tr>",
                            "<tr><td>5</td><td>26968.15</td><td>518.6182</td></tr>",
                            "<tr><td>56</td><td>13157.50</td><td>453.7068</td></tr>",
                            "<tr><td>76</td><td>24704.40</td><td>633.4461</td></tr>",
                            "<tr><td>59</td><td>26259.95</td><td>1141.7369</td></tr>",
                            "<tr><td>82</td><td>1571.20</td><td>174.5777</td></tr>",
                            "<tr><td>33</td><td>1488.70</td><td>372.175</td></tr>",
                            "<tr><td>39</td><td>31745.75</td><td>813.9935</td></tr>",
                            "<tr><td>16</td><td>1719.10</td><td>245.5857</td></tr>",
                            "<tr><td>88</td><td>6480.70</td><td>341.0894</td></tr>",
                            "<tr><td>53</td><td>649.00</td><td>108.1666</td></tr>",
                            "<tr><td>45</td><td>3490.02</td><td>349.002</td></tr>",
                            "<tr><td>2</td><td>1402.95</td><td>140.295</td></tr>",
                            "<tr><td>48</td><td>4258.60</td><td>304.1857</td></tr>",
                            "<tr><td>71</td><td>115673.39</td><td>997.1843</td></tr>",
                            "<tr><td>77</td><td>3361.00</td><td>480.1428</td></tr>",
                            "<tr><td>17</td><td>3763.21</td><td>376.321</td></tr>",
                            "<tr><td>31</td><td>8702.23</td><td>458.0121</td></tr>",
                            "<tr><td>60</td><td>5317.10</td><td>531.71</td></tr>",
                            "<tr><td>83</td><td>16643.80</td><td>536.8967</td></tr>",
                            "<tr><td>34</td><td>34101.15</td><td>1065.6609</td></tr>",
                            "<tr><td>40</td><td>1992.05</td><td>181.0954</td></tr>",
                            "<tr><td>11</td><td>6089.90</td><td>276.8136</td></tr>",
                            "<tr><td>54</td><td>3460.20</td><td>314.5636</td></tr>",
                            "<tr><td>91</td><td>3531.95</td><td>220.7468</td></tr>",
                            "<tr><td>20</td><td>113236.68</td><td>1110.1635</td></tr>",
                            "<tr><td>68</td><td>20033.20</td><td>667.7733</td></tr>",
                            "<tr><td>80</td><td>10812.15</td><td>372.8327</td></tr>",
                            "<tr><td>28</td><td>7151.55</td><td>357.5775</td></tr>",
                            "<tr><td>74</td><td>2423.35</td><td>403.8916</td></tr>",
                            "<tr><td>14</td><td>12886.30</td><td>585.7409</td></tr>",
                            "<tr><td>37</td><td>57317.39</td><td>1042.1343</td></tr>",
                            "<tr><td>8</td><td>5297.80</td><td>882.9666</td></tr>",
                            "<tr><td>51</td><td>32203.90</td><td>1006.3718</td></tr>",
                            "</table>"
                        ]
                    }
                }
            ],
            "execution_count": 9
        },
        {
            "cell_type": "markdown",
            "source": [
                "3. <b><u>Utilizando Expresions Comunes de Tabla</u></b>"
            ],
            "metadata": {
                "azdata_cell_guid": "299ae039-7d57-4f9e-8704-b7d521cba7d4"
            }
        },
        {
            "cell_type": "markdown",
            "source": [
                "3.1. Escribir una sentencia SELECT como la del ejercicio 2.1, pero utilizar un CTE en vez de una tabla derivada.\r\n",
                "Utilizar un alias de columna en linea en la consulta CTE y nombrar al CTE como ProductBeverages."
            ],
            "metadata": {
                "azdata_cell_guid": "7cadfd5d-e300-4fcd-a5b8-0b2e1e8b4a9f"
            }
        },
        {
            "cell_type": "code",
            "source": [
                "WITH ProductBeverages(productid, productname, supplierid, unitprice, discontinued, pricetype) AS (\r\n",
                "    SELECT productid, productname, supplierid, unitprice, discontinued,\r\n",
                "           CASE WHEN unitprice > 100 THEN N'high' ELSE N'normal' END\r\n",
                "    FROM Production.Products\r\n",
                "    WHERE categoryid = 1\r\n",
                ")\r\n",
                "SELECT productid, productname\r\n",
                "FROM ProductBeverages\r\n",
                "WHERE pricetype = 'high';"
            ],
            "metadata": {
                "azdata_cell_guid": "dfb6cf61-037b-4fee-b6da-4d89cf4cb3dd",
                "language": "sql"
            },
            "outputs": [
                {
                    "output_type": "display_data",
                    "data": {
                        "text/html": "(1 row affected)"
                    },
                    "metadata": {}
                },
                {
                    "output_type": "display_data",
                    "data": {
                        "text/html": "Total execution time: 00:00:00.015"
                    },
                    "metadata": {}
                },
                {
                    "output_type": "execute_result",
                    "metadata": {},
                    "execution_count": 10,
                    "data": {
                        "application/vnd.dataresource+json": {
                            "schema": {
                                "fields": [
                                    {
                                        "name": "productid"
                                    },
                                    {
                                        "name": "productname"
                                    }
                                ]
                            },
                            "data": [
                                {
                                    "productid": "38",
                                    "productname": "Product QDOMO"
                                }
                            ]
                        },
                        "text/html": [
                            "<table>",
                            "<tr><th>productid</th><th>productname</th></tr>",
                            "<tr><td>38</td><td>Product QDOMO</td></tr>",
                            "</table>"
                        ]
                    }
                }
            ],
            "execution_count": 10
        },
        {
            "cell_type": "markdown",
            "source": [
                "3.2. Escribir una consulta SELECT contra la tabla Sales.OrderValues para traer cada customer’s ID y el monto total de ventaspara el año 2008. Definir un CTE llamado c2008 basado en esta consulta, utilizando la forma de alias externapara nombrar las columnas del CTE como custid y salesamt2008. Enlazar la tabla Sales.Customers y el CTE c2008, devolviendo las columnas custid y contactname de la tabla Sales.Customers y la columna \r\n",
                "salesamt2008 desde el CTE c2008."
            ],
            "metadata": {
                "azdata_cell_guid": "da5e6de7-ca23-4217-8a7b-315014dd7668"
            }
        },
        {
            "cell_type": "code",
            "source": [
                "WITH c2008 (custid, salesamt2008) AS (\r\n",
                "    SELECT custid, SUM(val)\r\n",
                "    FROM Sales.OrderValues\r\n",
                "    WHERE YEAR(orderdate) = 2008\r\n",
                "    GROUP BY custid\r\n",
                ")\r\n",
                "SELECT c.custid, c.contactname, cv.salesamt2008\r\n",
                "FROM Sales.Customers c\r\n",
                "JOIN c2008 cv ON c.custid = cv.custid;"
            ],
            "metadata": {
                "azdata_cell_guid": "151cd974-bd95-46c9-af47-cfe0925d01a8",
                "language": "sql"
            },
            "outputs": [
                {
                    "output_type": "display_data",
                    "data": {
                        "text/html": "(81 rows affected)"
                    },
                    "metadata": {}
                },
                {
                    "output_type": "display_data",
                    "data": {
                        "text/html": "Total execution time: 00:00:00.103"
                    },
                    "metadata": {}
                },
                {
                    "output_type": "execute_result",
                    "metadata": {},
                    "execution_count": 11,
                    "data": {
                        "application/vnd.dataresource+json": {
                            "schema": {
                                "fields": [
                                    {
                                        "name": "custid"
                                    },
                                    {
                                        "name": "contactname"
                                    },
                                    {
                                        "name": "salesamt2008"
                                    }
                                ]
                            },
                            "data": [
                                {
                                    "custid": "1",
                                    "contactname": "Allen, Michael",
                                    "salesamt2008": "2250.50"
                                },
                                {
                                    "custid": "2",
                                    "contactname": "Hassall, Mark",
                                    "salesamt2008": "514.40"
                                },
                                {
                                    "custid": "3",
                                    "contactname": "Peoples, John",
                                    "salesamt2008": "660.00"
                                },
                                {
                                    "custid": "4",
                                    "contactname": "Arndt, Torsten",
                                    "salesamt2008": "5604.75"
                                },
                                {
                                    "custid": "5",
                                    "contactname": "Higginbotham, Tom",
                                    "salesamt2008": "6754.16"
                                },
                                {
                                    "custid": "6",
                                    "contactname": "Poland, Carole",
                                    "salesamt2008": "2160.00"
                                },
                                {
                                    "custid": "7",
                                    "contactname": "Bansal, Dushyant",
                                    "salesamt2008": "730.00"
                                },
                                {
                                    "custid": "8",
                                    "contactname": "Ilyina, Julia",
                                    "salesamt2008": "224.00"
                                },
                                {
                                    "custid": "9",
                                    "contactname": "Raghav, Amritansh",
                                    "salesamt2008": "6680.61"
                                },
                                {
                                    "custid": "10",
                                    "contactname": "Bassols, Pilar Colome",
                                    "salesamt2008": "11338.56"
                                },
                                {
                                    "custid": "11",
                                    "contactname": "Jaffe, David",
                                    "salesamt2008": "2431.00"
                                },
                                {
                                    "custid": "12",
                                    "contactname": "Ray, Mike",
                                    "salesamt2008": "1576.80"
                                },
                                {
                                    "custid": "14",
                                    "contactname": "Jelitto, Jacek",
                                    "salesamt2008": "4158.26"
                                },
                                {
                                    "custid": "15",
                                    "contactname": "Richardson, Shawn",
                                    "salesamt2008": "513.75"
                                },
                                {
                                    "custid": "16",
                                    "contactname": "Birkby, Dana",
                                    "salesamt2008": "931.50"
                                },
                                {
                                    "custid": "17",
                                    "contactname": "Jones, TiAnna",
                                    "salesamt2008": "2809.61"
                                },
                                {
                                    "custid": "18",
                                    "contactname": "Rizaldy, Arif",
                                    "salesamt2008": "860.10"
                                },
                                {
                                    "custid": "19",
                                    "contactname": "Boseman, Randall",
                                    "salesamt2008": "9296.69"
                                },
                                {
                                    "custid": "20",
                                    "contactname": "Kane, John",
                                    "salesamt2008": "41210.65"
                                },
                                {
                                    "custid": "24",
                                    "contactname": "San Juan, Patricia",
                                    "salesamt2008": "13644.07"
                                },
                                {
                                    "custid": "25",
                                    "contactname": "Carlson, Jason",
                                    "salesamt2008": "5078.74"
                                },
                                {
                                    "custid": "26",
                                    "contactname": "Koch, Paul",
                                    "salesamt2008": "2252.06"
                                },
                                {
                                    "custid": "27",
                                    "contactname": "Schmöllerl, Martin",
                                    "salesamt2008": "1296.00"
                                },
                                {
                                    "custid": "28",
                                    "contactname": "Cavaglieri, Giorgio",
                                    "salesamt2008": "57.80"
                                },
                                {
                                    "custid": "29",
                                    "contactname": "Kolesnikova, Katerina",
                                    "salesamt2008": "207.50"
                                },
                                {
                                    "custid": "30",
                                    "contactname": "Shabalin, Rostislav",
                                    "salesamt2008": "6870.21"
                                },
                                {
                                    "custid": "31",
                                    "contactname": "Cheng, Yao-Qiang",
                                    "salesamt2008": "405.35"
                                },
                                {
                                    "custid": "32",
                                    "contactname": "Krishnan, Venky",
                                    "salesamt2008": "9942.14"
                                },
                                {
                                    "custid": "34",
                                    "contactname": "Cohen, Shy",
                                    "salesamt2008": "23821.20"
                                },
                                {
                                    "custid": "35",
                                    "contactname": "Langohr, Kris",
                                    "salesamt2008": "6043.20"
                                },
                                {
                                    "custid": "37",
                                    "contactname": "Crăciun, Ovidiu V.",
                                    "salesamt2008": "20402.12"
                                },
                                {
                                    "custid": "38",
                                    "contactname": "Lee, Frank",
                                    "salesamt2008": "2684.60"
                                },
                                {
                                    "custid": "39",
                                    "contactname": "Song, Lolan",
                                    "salesamt2008": "19582.78"
                                },
                                {
                                    "custid": "40",
                                    "contactname": "De Oliveira, Jose",
                                    "salesamt2008": "1992.05"
                                },
                                {
                                    "custid": "41",
                                    "contactname": "Litton, Tim",
                                    "salesamt2008": "1259.91"
                                },
                                {
                                    "custid": "42",
                                    "contactname": "Steiner, Dominik",
                                    "salesamt2008": "187.00"
                                },
                                {
                                    "custid": "44",
                                    "contactname": "Louverdis, George",
                                    "salesamt2008": "3079.91"
                                },
                                {
                                    "custid": "45",
                                    "contactname": "Sunkammurali,  Krishna",
                                    "salesamt2008": "1378.07"
                                },
                                {
                                    "custid": "46",
                                    "contactname": "Dressler, Marlies",
                                    "salesamt2008": "5507.32"
                                },
                                {
                                    "custid": "47",
                                    "contactname": "Lupu, Cornel",
                                    "salesamt2008": "9117.10"
                                },
                                {
                                    "custid": "48",
                                    "contactname": "Szymczak, Radosław",
                                    "salesamt2008": "1709.40"
                                },
                                {
                                    "custid": "49",
                                    "contactname": "Duerr, Bernard",
                                    "salesamt2008": "1580.50"
                                },
                                {
                                    "custid": "50",
                                    "contactname": "Mace, Donald",
                                    "salesamt2008": "4439.08"
                                },
                                {
                                    "custid": "52",
                                    "contactname": "Dupont-Roc, Patrice",
                                    "salesamt2008": "245.00"
                                },
                                {
                                    "custid": "53",
                                    "contactname": "Mallit, Ken",
                                    "salesamt2008": "45.00"
                                },
                                {
                                    "custid": "54",
                                    "contactname": "Tiano, Mike",
                                    "salesamt2008": "3031.00"
                                },
                                {
                                    "custid": "55",
                                    "contactname": "Egelund-Muller, Anja",
                                    "salesamt2008": "5026.29"
                                },
                                {
                                    "custid": "56",
                                    "contactname": "Marinova, Nadejda",
                                    "salesamt2008": "2737.28"
                                },
                                {
                                    "custid": "58",
                                    "contactname": "Fakhouri, Fadi",
                                    "salesamt2008": "1496.00"
                                },
                                {
                                    "custid": "59",
                                    "contactname": "Meston, Tosh",
                                    "salesamt2008": "3790.00"
                                },
                                {
                                    "custid": "60",
                                    "contactname": "Uppal, Sunil",
                                    "salesamt2008": "2633.90"
                                },
                                {
                                    "custid": "61",
                                    "contactname": "Florczyk, Krzysztof",
                                    "salesamt2008": "1353.60"
                                },
                                {
                                    "custid": "62",
                                    "contactname": "Misiec, Anna",
                                    "salesamt2008": "6373.83"
                                },
                                {
                                    "custid": "63",
                                    "contactname": "Veronesi, Giorgio",
                                    "salesamt2008": "37217.32"
                                },
                                {
                                    "custid": "64",
                                    "contactname": "Gaffney, Lawrie",
                                    "salesamt2008": "1694.70"
                                },
                                {
                                    "custid": "65",
                                    "contactname": "Moore, Michael",
                                    "salesamt2008": "21238.27"
                                },
                                {
                                    "custid": "66",
                                    "contactname": "Voss, Florian",
                                    "salesamt2008": "3967.30"
                                },
                                {
                                    "custid": "67",
                                    "contactname": "Garden, Euan",
                                    "salesamt2008": "6998.53"
                                },
                                {
                                    "custid": "68",
                                    "contactname": "Myrcha, Jacek",
                                    "salesamt2008": "4988.86"
                                },
                                {
                                    "custid": "69",
                                    "contactname": "Watters, Jason M.",
                                    "salesamt2008": "726.89"
                                },
                                {
                                    "custid": "70",
                                    "contactname": "Ginters, Kaspars",
                                    "salesamt2008": "3976.75"
                                },
                                {
                                    "custid": "71",
                                    "contactname": "Navarro, Tomás",
                                    "salesamt2008": "36310.11"
                                },
                                {
                                    "custid": "72",
                                    "contactname": "Welcker, Brian",
                                    "salesamt2008": "1630.00"
                                },
                                {
                                    "custid": "73",
                                    "contactname": "Gonzalez, Nuria",
                                    "salesamt2008": "232.09"
                                },
                                {
                                    "custid": "74",
                                    "contactname": "O’Brien, Dave",
                                    "salesamt2008": "2371.00"
                                },
                                {
                                    "custid": "75",
                                    "contactname": "Wojciechowska, Agnieszka",
                                    "salesamt2008": "1117.00"
                                },
                                {
                                    "custid": "76",
                                    "contactname": "Gulbis, Katrin",
                                    "salesamt2008": "11644.60"
                                },
                                {
                                    "custid": "77",
                                    "contactname": "Osorio, Cristian",
                                    "salesamt2008": "69.60"
                                },
                                {
                                    "custid": "78",
                                    "contactname": "Young, Robin",
                                    "salesamt2008": "326.00"
                                },
                                {
                                    "custid": "79",
                                    "contactname": "Wickham, Jim",
                                    "salesamt2008": "910.40"
                                },
                                {
                                    "custid": "80",
                                    "contactname": "Geschwandtner, Jens",
                                    "salesamt2008": "1874.50"
                                },
                                {
                                    "custid": "81",
                                    "contactname": "Nagel, Jean-Philippe",
                                    "salesamt2008": "4234.26"
                                },
                                {
                                    "custid": "82",
                                    "contactname": "Veninga, Tjeerd",
                                    "salesamt2008": "237.90"
                                },
                                {
                                    "custid": "83",
                                    "contactname": "Fonteneau, Karl",
                                    "salesamt2008": "4284.00"
                                },
                                {
                                    "custid": "84",
                                    "contactname": "Tuntisangaroon, Sittichai",
                                    "salesamt2008": "2576.45"
                                },
                                {
                                    "custid": "86",
                                    "contactname": "Syamala, Manoj",
                                    "salesamt2008": "1485.80"
                                },
                                {
                                    "custid": "87",
                                    "contactname": "Ludwig, Michael",
                                    "salesamt2008": "270.00"
                                },
                                {
                                    "custid": "88",
                                    "contactname": "Li, Yan",
                                    "salesamt2008": "1135.25"
                                },
                                {
                                    "custid": "89",
                                    "contactname": "Smith Jr., Ronaldo",
                                    "salesamt2008": "15278.90"
                                },
                                {
                                    "custid": "90",
                                    "contactname": "Larsson, Katarina",
                                    "salesamt2008": "1987.00"
                                },
                                {
                                    "custid": "91",
                                    "contactname": "Conn, Steve",
                                    "salesamt2008": "1865.10"
                                }
                            ]
                        },
                        "text/html": [
                            "<table>",
                            "<tr><th>custid</th><th>contactname</th><th>salesamt2008</th></tr>",
                            "<tr><td>1</td><td>Allen, Michael</td><td>2250.50</td></tr>",
                            "<tr><td>2</td><td>Hassall, Mark</td><td>514.40</td></tr>",
                            "<tr><td>3</td><td>Peoples, John</td><td>660.00</td></tr>",
                            "<tr><td>4</td><td>Arndt, Torsten</td><td>5604.75</td></tr>",
                            "<tr><td>5</td><td>Higginbotham, Tom</td><td>6754.16</td></tr>",
                            "<tr><td>6</td><td>Poland, Carole</td><td>2160.00</td></tr>",
                            "<tr><td>7</td><td>Bansal, Dushyant</td><td>730.00</td></tr>",
                            "<tr><td>8</td><td>Ilyina, Julia</td><td>224.00</td></tr>",
                            "<tr><td>9</td><td>Raghav, Amritansh</td><td>6680.61</td></tr>",
                            "<tr><td>10</td><td>Bassols, Pilar Colome</td><td>11338.56</td></tr>",
                            "<tr><td>11</td><td>Jaffe, David</td><td>2431.00</td></tr>",
                            "<tr><td>12</td><td>Ray, Mike</td><td>1576.80</td></tr>",
                            "<tr><td>14</td><td>Jelitto, Jacek</td><td>4158.26</td></tr>",
                            "<tr><td>15</td><td>Richardson, Shawn</td><td>513.75</td></tr>",
                            "<tr><td>16</td><td>Birkby, Dana</td><td>931.50</td></tr>",
                            "<tr><td>17</td><td>Jones, TiAnna</td><td>2809.61</td></tr>",
                            "<tr><td>18</td><td>Rizaldy, Arif</td><td>860.10</td></tr>",
                            "<tr><td>19</td><td>Boseman, Randall</td><td>9296.69</td></tr>",
                            "<tr><td>20</td><td>Kane, John</td><td>41210.65</td></tr>",
                            "<tr><td>24</td><td>San Juan, Patricia</td><td>13644.07</td></tr>",
                            "<tr><td>25</td><td>Carlson, Jason</td><td>5078.74</td></tr>",
                            "<tr><td>26</td><td>Koch, Paul</td><td>2252.06</td></tr>",
                            "<tr><td>27</td><td>Schmöllerl, Martin</td><td>1296.00</td></tr>",
                            "<tr><td>28</td><td>Cavaglieri, Giorgio</td><td>57.80</td></tr>",
                            "<tr><td>29</td><td>Kolesnikova, Katerina</td><td>207.50</td></tr>",
                            "<tr><td>30</td><td>Shabalin, Rostislav</td><td>6870.21</td></tr>",
                            "<tr><td>31</td><td>Cheng, Yao-Qiang</td><td>405.35</td></tr>",
                            "<tr><td>32</td><td>Krishnan, Venky</td><td>9942.14</td></tr>",
                            "<tr><td>34</td><td>Cohen, Shy</td><td>23821.20</td></tr>",
                            "<tr><td>35</td><td>Langohr, Kris</td><td>6043.20</td></tr>",
                            "<tr><td>37</td><td>Crăciun, Ovidiu V.</td><td>20402.12</td></tr>",
                            "<tr><td>38</td><td>Lee, Frank</td><td>2684.60</td></tr>",
                            "<tr><td>39</td><td>Song, Lolan</td><td>19582.78</td></tr>",
                            "<tr><td>40</td><td>De Oliveira, Jose</td><td>1992.05</td></tr>",
                            "<tr><td>41</td><td>Litton, Tim</td><td>1259.91</td></tr>",
                            "<tr><td>42</td><td>Steiner, Dominik</td><td>187.00</td></tr>",
                            "<tr><td>44</td><td>Louverdis, George</td><td>3079.91</td></tr>",
                            "<tr><td>45</td><td>Sunkammurali,  Krishna</td><td>1378.07</td></tr>",
                            "<tr><td>46</td><td>Dressler, Marlies</td><td>5507.32</td></tr>",
                            "<tr><td>47</td><td>Lupu, Cornel</td><td>9117.10</td></tr>",
                            "<tr><td>48</td><td>Szymczak, Radosław</td><td>1709.40</td></tr>",
                            "<tr><td>49</td><td>Duerr, Bernard</td><td>1580.50</td></tr>",
                            "<tr><td>50</td><td>Mace, Donald</td><td>4439.08</td></tr>",
                            "<tr><td>52</td><td>Dupont-Roc, Patrice</td><td>245.00</td></tr>",
                            "<tr><td>53</td><td>Mallit, Ken</td><td>45.00</td></tr>",
                            "<tr><td>54</td><td>Tiano, Mike</td><td>3031.00</td></tr>",
                            "<tr><td>55</td><td>Egelund-Muller, Anja</td><td>5026.29</td></tr>",
                            "<tr><td>56</td><td>Marinova, Nadejda</td><td>2737.28</td></tr>",
                            "<tr><td>58</td><td>Fakhouri, Fadi</td><td>1496.00</td></tr>",
                            "<tr><td>59</td><td>Meston, Tosh</td><td>3790.00</td></tr>",
                            "<tr><td>60</td><td>Uppal, Sunil</td><td>2633.90</td></tr>",
                            "<tr><td>61</td><td>Florczyk, Krzysztof</td><td>1353.60</td></tr>",
                            "<tr><td>62</td><td>Misiec, Anna</td><td>6373.83</td></tr>",
                            "<tr><td>63</td><td>Veronesi, Giorgio</td><td>37217.32</td></tr>",
                            "<tr><td>64</td><td>Gaffney, Lawrie</td><td>1694.70</td></tr>",
                            "<tr><td>65</td><td>Moore, Michael</td><td>21238.27</td></tr>",
                            "<tr><td>66</td><td>Voss, Florian</td><td>3967.30</td></tr>",
                            "<tr><td>67</td><td>Garden, Euan</td><td>6998.53</td></tr>",
                            "<tr><td>68</td><td>Myrcha, Jacek</td><td>4988.86</td></tr>",
                            "<tr><td>69</td><td>Watters, Jason M.</td><td>726.89</td></tr>",
                            "<tr><td>70</td><td>Ginters, Kaspars</td><td>3976.75</td></tr>",
                            "<tr><td>71</td><td>Navarro, Tomás</td><td>36310.11</td></tr>",
                            "<tr><td>72</td><td>Welcker, Brian</td><td>1630.00</td></tr>",
                            "<tr><td>73</td><td>Gonzalez, Nuria</td><td>232.09</td></tr>",
                            "<tr><td>74</td><td>O’Brien, Dave</td><td>2371.00</td></tr>",
                            "<tr><td>75</td><td>Wojciechowska, Agnieszka</td><td>1117.00</td></tr>",
                            "<tr><td>76</td><td>Gulbis, Katrin</td><td>11644.60</td></tr>",
                            "<tr><td>77</td><td>Osorio, Cristian</td><td>69.60</td></tr>",
                            "<tr><td>78</td><td>Young, Robin</td><td>326.00</td></tr>",
                            "<tr><td>79</td><td>Wickham, Jim</td><td>910.40</td></tr>",
                            "<tr><td>80</td><td>Geschwandtner, Jens</td><td>1874.50</td></tr>",
                            "<tr><td>81</td><td>Nagel, Jean-Philippe</td><td>4234.26</td></tr>",
                            "<tr><td>82</td><td>Veninga, Tjeerd</td><td>237.90</td></tr>",
                            "<tr><td>83</td><td>Fonteneau, Karl</td><td>4284.00</td></tr>",
                            "<tr><td>84</td><td>Tuntisangaroon, Sittichai</td><td>2576.45</td></tr>",
                            "<tr><td>86</td><td>Syamala, Manoj</td><td>1485.80</td></tr>",
                            "<tr><td>87</td><td>Ludwig, Michael</td><td>270.00</td></tr>",
                            "<tr><td>88</td><td>Li, Yan</td><td>1135.25</td></tr>",
                            "<tr><td>89</td><td>Smith Jr., Ronaldo</td><td>15278.90</td></tr>",
                            "<tr><td>90</td><td>Larsson, Katarina</td><td>1987.00</td></tr>",
                            "<tr><td>91</td><td>Conn, Steve</td><td>1865.10</td></tr>",
                            "</table>"
                        ]
                    }
                }
            ],
            "execution_count": 11
        },
        {
            "cell_type": "markdown",
            "source": [
                "4. <b><u>Utilizando Funciones de Tabla en línea</b></u>"
            ],
            "metadata": {
                "azdata_cell_guid": "6351453f-8c69-44f9-918e-cb939c9f74ec"
            }
        },
        {
            "cell_type": "markdown",
            "source": [
                "4.1. Escribir una sentencia SELECT contra la vista Sales.OrderValues y traer la las columnas custid y totalsalesamount como un total de la columna val. Filtrar los resultados para incluir las ordenes solo del año 2007."
            ],
            "metadata": {
                "azdata_cell_guid": "94b1d64c-46c8-4107-8ee0-1de5cc5441bb"
            }
        },
        {
            "cell_type": "code",
            "source": [
                "SELECT custid, SUM(val) AS totalsalesamount\r\n",
                "FROM Sales.OrderValues\r\n",
                "WHERE YEAR(orderdate) = 2007\r\n",
                "GROUP BY custid;"
            ],
            "metadata": {
                "azdata_cell_guid": "c370d6e2-0a74-4636-8c17-6dc1da546562",
                "language": "sql",
                "tags": []
            },
            "outputs": [
                {
                    "output_type": "display_data",
                    "data": {
                        "text/html": "(86 rows affected)"
                    },
                    "metadata": {}
                },
                {
                    "output_type": "display_data",
                    "data": {
                        "text/html": "Total execution time: 00:00:00.024"
                    },
                    "metadata": {}
                },
                {
                    "output_type": "execute_result",
                    "metadata": {},
                    "execution_count": 12,
                    "data": {
                        "application/vnd.dataresource+json": {
                            "schema": {
                                "fields": [
                                    {
                                        "name": "custid"
                                    },
                                    {
                                        "name": "totalsalesamount"
                                    }
                                ]
                            },
                            "data": [
                                {
                                    "custid": "1",
                                    "totalsalesamount": "2022.50"
                                },
                                {
                                    "custid": "2",
                                    "totalsalesamount": "799.75"
                                },
                                {
                                    "custid": "3",
                                    "totalsalesamount": "5960.78"
                                },
                                {
                                    "custid": "4",
                                    "totalsalesamount": "6406.90"
                                },
                                {
                                    "custid": "5",
                                    "totalsalesamount": "13849.02"
                                },
                                {
                                    "custid": "6",
                                    "totalsalesamount": "1079.80"
                                },
                                {
                                    "custid": "7",
                                    "totalsalesamount": "7817.88"
                                },
                                {
                                    "custid": "8",
                                    "totalsalesamount": "3026.85"
                                },
                                {
                                    "custid": "9",
                                    "totalsalesamount": "11208.36"
                                },
                                {
                                    "custid": "10",
                                    "totalsalesamount": "7630.25"
                                },
                                {
                                    "custid": "11",
                                    "totalsalesamount": "3179.50"
                                },
                                {
                                    "custid": "12",
                                    "totalsalesamount": "238.00"
                                },
                                {
                                    "custid": "14",
                                    "totalsalesamount": "6516.40"
                                },
                                {
                                    "custid": "15",
                                    "totalsalesamount": "1128.00"
                                },
                                {
                                    "custid": "16",
                                    "totalsalesamount": "787.60"
                                },
                                {
                                    "custid": "17",
                                    "totalsalesamount": "420.00"
                                },
                                {
                                    "custid": "18",
                                    "totalsalesamount": "487.00"
                                },
                                {
                                    "custid": "19",
                                    "totalsalesamount": "4514.35"
                                },
                                {
                                    "custid": "20",
                                    "totalsalesamount": "48096.27"
                                },
                                {
                                    "custid": "21",
                                    "totalsalesamount": "3127.13"
                                },
                                {
                                    "custid": "23",
                                    "totalsalesamount": "11666.90"
                                },
                                {
                                    "custid": "24",
                                    "totalsalesamount": "13314.67"
                                },
                                {
                                    "custid": "25",
                                    "totalsalesamount": "11829.79"
                                },
                                {
                                    "custid": "26",
                                    "totalsalesamount": "920.10"
                                },
                                {
                                    "custid": "27",
                                    "totalsalesamount": "249.70"
                                },
                                {
                                    "custid": "28",
                                    "totalsalesamount": "5065.33"
                                },
                                {
                                    "custid": "29",
                                    "totalsalesamount": "493.20"
                                },
                                {
                                    "custid": "30",
                                    "totalsalesamount": "3458.35"
                                },
                                {
                                    "custid": "31",
                                    "totalsalesamount": "8008.79"
                                },
                                {
                                    "custid": "32",
                                    "totalsalesamount": "8565.32"
                                },
                                {
                                    "custid": "33",
                                    "totalsalesamount": "387.50"
                                },
                                {
                                    "custid": "34",
                                    "totalsalesamount": "6022.77"
                                },
                                {
                                    "custid": "35",
                                    "totalsalesamount": "13482.74"
                                },
                                {
                                    "custid": "36",
                                    "totalsalesamount": "2283.20"
                                },
                                {
                                    "custid": "37",
                                    "totalsalesamount": "20454.41"
                                },
                                {
                                    "custid": "38",
                                    "totalsalesamount": "2560.50"
                                },
                                {
                                    "custid": "39",
                                    "totalsalesamount": "9664.21"
                                },
                                {
                                    "custid": "41",
                                    "totalsalesamount": "6923.87"
                                },
                                {
                                    "custid": "42",
                                    "totalsalesamount": "335.50"
                                },
                                {
                                    "custid": "43",
                                    "totalsalesamount": "357.00"
                                },
                                {
                                    "custid": "44",
                                    "totalsalesamount": "13076.13"
                                },
                                {
                                    "custid": "45",
                                    "totalsalesamount": "1698.40"
                                },
                                {
                                    "custid": "46",
                                    "totalsalesamount": "5175.20"
                                },
                                {
                                    "custid": "47",
                                    "totalsalesamount": "7359.48"
                                },
                                {
                                    "custid": "48",
                                    "totalsalesamount": "1837.20"
                                },
                                {
                                    "custid": "49",
                                    "totalsalesamount": "4695.88"
                                },
                                {
                                    "custid": "50",
                                    "totalsalesamount": "5297.00"
                                },
                                {
                                    "custid": "51",
                                    "totalsalesamount": "23332.31"
                                },
                                {
                                    "custid": "52",
                                    "totalsalesamount": "3596.40"
                                },
                                {
                                    "custid": "53",
                                    "totalsalesamount": "604.00"
                                },
                                {
                                    "custid": "54",
                                    "totalsalesamount": "429.20"
                                },
                                {
                                    "custid": "55",
                                    "totalsalesamount": "5475.38"
                                },
                                {
                                    "custid": "56",
                                    "totalsalesamount": "8254.28"
                                },
                                {
                                    "custid": "58",
                                    "totalsalesamount": "2065.40"
                                },
                                {
                                    "custid": "59",
                                    "totalsalesamount": "9305.58"
                                },
                                {
                                    "custid": "60",
                                    "totalsalesamount": "1409.20"
                                },
                                {
                                    "custid": "61",
                                    "totalsalesamount": "3502.41"
                                },
                                {
                                    "custid": "62",
                                    "totalsalesamount": "10132.77"
                                },
                                {
                                    "custid": "63",
                                    "totalsalesamount": "61109.92"
                                },
                                {
                                    "custid": "64",
                                    "totalsalesamount": "1149.40"
                                },
                                {
                                    "custid": "65",
                                    "totalsalesamount": "19383.75"
                                },
                                {
                                    "custid": "66",
                                    "totalsalesamount": "3000.84"
                                },
                                {
                                    "custid": "67",
                                    "totalsalesamount": "4283.78"
                                },
                                {
                                    "custid": "68",
                                    "totalsalesamount": "11864.42"
                                },
                                {
                                    "custid": "70",
                                    "totalsalesamount": "700.00"
                                },
                                {
                                    "custid": "71",
                                    "totalsalesamount": "57713.58"
                                },
                                {
                                    "custid": "72",
                                    "totalsalesamount": "9021.25"
                                },
                                {
                                    "custid": "73",
                                    "totalsalesamount": "16232.41"
                                },
                                {
                                    "custid": "74",
                                    "totalsalesamount": "52.35"
                                },
                                {
                                    "custid": "75",
                                    "totalsalesamount": "2475.00"
                                },
                                {
                                    "custid": "76",
                                    "totalsalesamount": "6137.48"
                                },
                                {
                                    "custid": "77",
                                    "totalsalesamount": "2955.40"
                                },
                                {
                                    "custid": "78",
                                    "totalsalesamount": "1621.24"
                                },
                                {
                                    "custid": "79",
                                    "totalsalesamount": "2004.34"
                                },
                                {
                                    "custid": "80",
                                    "totalsalesamount": "5523.35"
                                },
                                {
                                    "custid": "81",
                                    "totalsalesamount": "1320.40"
                                },
                                {
                                    "custid": "82",
                                    "totalsalesamount": "1333.30"
                                },
                                {
                                    "custid": "83",
                                    "totalsalesamount": "8960.13"
                                },
                                {
                                    "custid": "84",
                                    "totalsalesamount": "5807.12"
                                },
                                {
                                    "custid": "85",
                                    "totalsalesamount": "379.80"
                                },
                                {
                                    "custid": "86",
                                    "totalsalesamount": "4262.83"
                                },
                                {
                                    "custid": "87",
                                    "totalsalesamount": "12262.94"
                                },
                                {
                                    "custid": "88",
                                    "totalsalesamount": "4415.15"
                                },
                                {
                                    "custid": "89",
                                    "totalsalesamount": "9146.51"
                                },
                                {
                                    "custid": "90",
                                    "totalsalesamount": "1174.35"
                                },
                                {
                                    "custid": "91",
                                    "totalsalesamount": "1207.85"
                                }
                            ]
                        },
                        "text/html": [
                            "<table>",
                            "<tr><th>custid</th><th>totalsalesamount</th></tr>",
                            "<tr><td>1</td><td>2022.50</td></tr>",
                            "<tr><td>2</td><td>799.75</td></tr>",
                            "<tr><td>3</td><td>5960.78</td></tr>",
                            "<tr><td>4</td><td>6406.90</td></tr>",
                            "<tr><td>5</td><td>13849.02</td></tr>",
                            "<tr><td>6</td><td>1079.80</td></tr>",
                            "<tr><td>7</td><td>7817.88</td></tr>",
                            "<tr><td>8</td><td>3026.85</td></tr>",
                            "<tr><td>9</td><td>11208.36</td></tr>",
                            "<tr><td>10</td><td>7630.25</td></tr>",
                            "<tr><td>11</td><td>3179.50</td></tr>",
                            "<tr><td>12</td><td>238.00</td></tr>",
                            "<tr><td>14</td><td>6516.40</td></tr>",
                            "<tr><td>15</td><td>1128.00</td></tr>",
                            "<tr><td>16</td><td>787.60</td></tr>",
                            "<tr><td>17</td><td>420.00</td></tr>",
                            "<tr><td>18</td><td>487.00</td></tr>",
                            "<tr><td>19</td><td>4514.35</td></tr>",
                            "<tr><td>20</td><td>48096.27</td></tr>",
                            "<tr><td>21</td><td>3127.13</td></tr>",
                            "<tr><td>23</td><td>11666.90</td></tr>",
                            "<tr><td>24</td><td>13314.67</td></tr>",
                            "<tr><td>25</td><td>11829.79</td></tr>",
                            "<tr><td>26</td><td>920.10</td></tr>",
                            "<tr><td>27</td><td>249.70</td></tr>",
                            "<tr><td>28</td><td>5065.33</td></tr>",
                            "<tr><td>29</td><td>493.20</td></tr>",
                            "<tr><td>30</td><td>3458.35</td></tr>",
                            "<tr><td>31</td><td>8008.79</td></tr>",
                            "<tr><td>32</td><td>8565.32</td></tr>",
                            "<tr><td>33</td><td>387.50</td></tr>",
                            "<tr><td>34</td><td>6022.77</td></tr>",
                            "<tr><td>35</td><td>13482.74</td></tr>",
                            "<tr><td>36</td><td>2283.20</td></tr>",
                            "<tr><td>37</td><td>20454.41</td></tr>",
                            "<tr><td>38</td><td>2560.50</td></tr>",
                            "<tr><td>39</td><td>9664.21</td></tr>",
                            "<tr><td>41</td><td>6923.87</td></tr>",
                            "<tr><td>42</td><td>335.50</td></tr>",
                            "<tr><td>43</td><td>357.00</td></tr>",
                            "<tr><td>44</td><td>13076.13</td></tr>",
                            "<tr><td>45</td><td>1698.40</td></tr>",
                            "<tr><td>46</td><td>5175.20</td></tr>",
                            "<tr><td>47</td><td>7359.48</td></tr>",
                            "<tr><td>48</td><td>1837.20</td></tr>",
                            "<tr><td>49</td><td>4695.88</td></tr>",
                            "<tr><td>50</td><td>5297.00</td></tr>",
                            "<tr><td>51</td><td>23332.31</td></tr>",
                            "<tr><td>52</td><td>3596.40</td></tr>",
                            "<tr><td>53</td><td>604.00</td></tr>",
                            "<tr><td>54</td><td>429.20</td></tr>",
                            "<tr><td>55</td><td>5475.38</td></tr>",
                            "<tr><td>56</td><td>8254.28</td></tr>",
                            "<tr><td>58</td><td>2065.40</td></tr>",
                            "<tr><td>59</td><td>9305.58</td></tr>",
                            "<tr><td>60</td><td>1409.20</td></tr>",
                            "<tr><td>61</td><td>3502.41</td></tr>",
                            "<tr><td>62</td><td>10132.77</td></tr>",
                            "<tr><td>63</td><td>61109.92</td></tr>",
                            "<tr><td>64</td><td>1149.40</td></tr>",
                            "<tr><td>65</td><td>19383.75</td></tr>",
                            "<tr><td>66</td><td>3000.84</td></tr>",
                            "<tr><td>67</td><td>4283.78</td></tr>",
                            "<tr><td>68</td><td>11864.42</td></tr>",
                            "<tr><td>70</td><td>700.00</td></tr>",
                            "<tr><td>71</td><td>57713.58</td></tr>",
                            "<tr><td>72</td><td>9021.25</td></tr>",
                            "<tr><td>73</td><td>16232.41</td></tr>",
                            "<tr><td>74</td><td>52.35</td></tr>",
                            "<tr><td>75</td><td>2475.00</td></tr>",
                            "<tr><td>76</td><td>6137.48</td></tr>",
                            "<tr><td>77</td><td>2955.40</td></tr>",
                            "<tr><td>78</td><td>1621.24</td></tr>",
                            "<tr><td>79</td><td>2004.34</td></tr>",
                            "<tr><td>80</td><td>5523.35</td></tr>",
                            "<tr><td>81</td><td>1320.40</td></tr>",
                            "<tr><td>82</td><td>1333.30</td></tr>",
                            "<tr><td>83</td><td>8960.13</td></tr>",
                            "<tr><td>84</td><td>5807.12</td></tr>",
                            "<tr><td>85</td><td>379.80</td></tr>",
                            "<tr><td>86</td><td>4262.83</td></tr>",
                            "<tr><td>87</td><td>12262.94</td></tr>",
                            "<tr><td>88</td><td>4415.15</td></tr>",
                            "<tr><td>89</td><td>9146.51</td></tr>",
                            "<tr><td>90</td><td>1174.35</td></tr>",
                            "<tr><td>91</td><td>1207.85</td></tr>",
                            "</table>"
                        ]
                    }
                }
            ],
            "execution_count": 12
        },
        {
            "cell_type": "markdown",
            "source": [
                "4.2. Definir una función de valores de tabla (TVF) en linea utilizando el siguiente encabezado de función y añadir la consulta previa despues de la clausula RETURN:\r\n",
                "Modificar la consulta constante año valor 2007 en la clausula WHERE con el parametro @orderyear."
            ],
            "metadata": {
                "azdata_cell_guid": "8b91f57b-9cec-4519-9737-e01c5382dfc0"
            }
        },
        {
            "cell_type": "code",
            "source": [
                "CREATE FUNCTION dbo.fnGetSalesByCustomer\r\n",
                "(@orderyear AS INT)\r\n",
                "RETURNS TABLE\r\n",
                "AS\r\n",
                "RETURN\r\n",
                "    SELECT custid, SUM(val) AS totalsalesamount\r\n",
                "    FROM Sales.OrderValues\r\n",
                "    WHERE YEAR(orderdate) = @orderyear\r\n",
                "    GROUP BY custid;"
            ],
            "metadata": {
                "azdata_cell_guid": "d2fcd69d-2058-4513-b0b7-3e5b4ca50676",
                "language": "sql"
            },
            "outputs": [
                {
                    "output_type": "display_data",
                    "data": {
                        "text/html": "Commands completed successfully."
                    },
                    "metadata": {}
                },
                {
                    "output_type": "display_data",
                    "data": {
                        "text/html": "Total execution time: 00:00:00.021"
                    },
                    "metadata": {}
                }
            ],
            "execution_count": 13
        },
        {
            "cell_type": "markdown",
            "source": [
                "4.3. Escribir una sentencia SELECT que devuelva el top 3 de los productos vendidos basado en el valor de total de ventas para el cliente con el ID 1. Devolver las columnas productid y productname de la tabla Production.Products. Utilizar las columnas qty y unitprice de la tabla Sales.OrderDetails para calcular el valor de cada linea de la orden, y devolver la suma de todos los valores por producto, nombrando la columna resultante totalsalesamount. Filtrar los resultados para incluir solo las filas donde el valor de la columna custid es igual a 1."
            ],
            "metadata": {
                "azdata_cell_guid": "4303945d-a530-4163-8afb-00d615accf21"
            }
        },
        {
            "cell_type": "code",
            "source": [
                "SELECT TOP 3 \r\n",
                "    p.productid, \r\n",
                "    p.productname, \r\n",
                "    SUM(od.qty * od.unitprice) AS totalsalesamount\r\n",
                "FROM Sales.OrderDetails od\r\n",
                "JOIN Sales.Orders o ON od.orderid = o.orderid\r\n",
                "JOIN Production.Products p ON od.productid = p.productid\r\n",
                "WHERE o.custid = 1\r\n",
                "GROUP BY p.productid, p.productname\r\n",
                "ORDER BY totalsalesamount DESC;"
            ],
            "metadata": {
                "azdata_cell_guid": "35c89b37-a6f3-4996-82b4-3f1763bb87f0",
                "language": "sql"
            },
            "outputs": [
                {
                    "output_type": "display_data",
                    "data": {
                        "text/html": "(3 rows affected)"
                    },
                    "metadata": {}
                },
                {
                    "output_type": "display_data",
                    "data": {
                        "text/html": "Total execution time: 00:00:00.069"
                    },
                    "metadata": {}
                },
                {
                    "output_type": "execute_result",
                    "metadata": {},
                    "execution_count": 14,
                    "data": {
                        "application/vnd.dataresource+json": {
                            "schema": {
                                "fields": [
                                    {
                                        "name": "productid"
                                    },
                                    {
                                        "name": "productname"
                                    },
                                    {
                                        "name": "totalsalesamount"
                                    }
                                ]
                            },
                            "data": [
                                {
                                    "productid": "63",
                                    "productname": "Product ICKNK",
                                    "totalsalesamount": "878.00"
                                },
                                {
                                    "productid": "59",
                                    "productname": "Product UKXRI",
                                    "totalsalesamount": "825.00"
                                },
                                {
                                    "productid": "28",
                                    "productname": "Product OFBNT",
                                    "totalsalesamount": "775.20"
                                }
                            ]
                        },
                        "text/html": [
                            "<table>",
                            "<tr><th>productid</th><th>productname</th><th>totalsalesamount</th></tr>",
                            "<tr><td>63</td><td>Product ICKNK</td><td>878.00</td></tr>",
                            "<tr><td>59</td><td>Product UKXRI</td><td>825.00</td></tr>",
                            "<tr><td>28</td><td>Product OFBNT</td><td>775.20</td></tr>",
                            "</table>"
                        ]
                    }
                }
            ],
            "execution_count": 14
        },
        {
            "cell_type": "markdown",
            "source": [
                "4.4. Crear una funncion (TVF) basada en el siguiente encabezado, utilizando la sentencia  SELECT previa. Reemplazar la constante custid valor 1 en la consulta con el parametro de la funcion @custid:"
            ],
            "metadata": {
                "azdata_cell_guid": "c00eab0c-56e6-4277-adae-1fbfe072fb2b"
            }
        },
        {
            "cell_type": "code",
            "source": [
                "CREATE FUNCTION dbo.fnGetTop3ProductsForCustomer\r\n",
                "(@custid AS INT)\r\n",
                "RETURNS TABLE\r\n",
                "AS\r\n",
                "RETURN\r\n",
                "    SELECT TOP 3 \r\n",
                "        p.productid, \r\n",
                "        p.productname, \r\n",
                "        SUM(od.qty * od.unitprice) AS totalsalesamount\r\n",
                "    FROM Sales.OrderDetails od\r\n",
                "    JOIN Sales.Orders o ON od.orderid = o.orderid\r\n",
                "    JOIN Production.Products p ON od.productid = p.productid\r\n",
                "    WHERE o.custid = @custid\r\n",
                "    GROUP BY p.productid, p.productname\r\n",
                "    ORDER BY totalsalesamount DESC;"
            ],
            "metadata": {
                "azdata_cell_guid": "40f72f70-dd41-42d1-9d6c-2a8418f7d175",
                "tags": [],
                "language": "sql"
            },
            "outputs": [
                {
                    "output_type": "display_data",
                    "data": {
                        "text/html": "Commands completed successfully."
                    },
                    "metadata": {}
                },
                {
                    "output_type": "display_data",
                    "data": {
                        "text/html": "Total execution time: 00:00:00.016"
                    },
                    "metadata": {}
                }
            ],
            "execution_count": 15
        },
        {
            "cell_type": "markdown",
            "source": [
                "4.5. Probar la función SELECT creada escribiendo  una sentencia con esta y utilizar el valor para el parametro customer ID. Traer las columnas productid, productname y totalsalesamount, y utilizar el alias “p” para la función TVF."
            ],
            "metadata": {
                "azdata_cell_guid": "276b1e2c-d0f7-4b2c-a9a2-8de7de51ed60"
            }
        },
        {
            "cell_type": "code",
            "source": [
                "SELECT \r\n",
                "    p.productid, \r\n",
                "    p.productname, \r\n",
                "    p.totalsalesamount\r\n",
                "FROM dbo.fnGetTop3ProductsForCustomer(1) AS p;"
            ],
            "metadata": {
                "azdata_cell_guid": "efad99a1-7a10-4a2a-9638-26086ce7d414",
                "language": "sql"
            },
            "outputs": [
                {
                    "output_type": "display_data",
                    "data": {
                        "text/html": "(3 rows affected)"
                    },
                    "metadata": {}
                },
                {
                    "output_type": "display_data",
                    "data": {
                        "text/html": "Total execution time: 00:00:00.025"
                    },
                    "metadata": {}
                },
                {
                    "output_type": "execute_result",
                    "metadata": {},
                    "execution_count": 16,
                    "data": {
                        "application/vnd.dataresource+json": {
                            "schema": {
                                "fields": [
                                    {
                                        "name": "productid"
                                    },
                                    {
                                        "name": "productname"
                                    },
                                    {
                                        "name": "totalsalesamount"
                                    }
                                ]
                            },
                            "data": [
                                {
                                    "productid": "63",
                                    "productname": "Product ICKNK",
                                    "totalsalesamount": "878.00"
                                },
                                {
                                    "productid": "59",
                                    "productname": "Product UKXRI",
                                    "totalsalesamount": "825.00"
                                },
                                {
                                    "productid": "28",
                                    "productname": "Product OFBNT",
                                    "totalsalesamount": "775.20"
                                }
                            ]
                        },
                        "text/html": [
                            "<table>",
                            "<tr><th>productid</th><th>productname</th><th>totalsalesamount</th></tr>",
                            "<tr><td>63</td><td>Product ICKNK</td><td>878.00</td></tr>",
                            "<tr><td>59</td><td>Product UKXRI</td><td>825.00</td></tr>",
                            "<tr><td>28</td><td>Product OFBNT</td><td>775.20</td></tr>",
                            "</table>"
                        ]
                    }
                }
            ],
            "execution_count": 16
        },
        {
            "cell_type": "markdown",
            "source": [
                "4.6. Escribir el código necesario para limpiar todos los cambios realizados"
            ],
            "metadata": {
                "azdata_cell_guid": "a0c425de-23dd-41d7-bd01-17e58424adef"
            }
        },
        {
            "cell_type": "code",
            "source": [
                "-- Eliminar la vista creada\r\n",
                "DROP VIEW IF EXISTS Production.ProductsBeverages;\r\n",
                "\r\n",
                "-- Eliminar la función TVF de ventas por cliente\r\n",
                "DROP FUNCTION IF EXISTS dbo.fnGetSalesByCustomer;\r\n",
                "\r\n",
                "-- Eliminar la función TVF de top 3 productos por cliente\r\n",
                "DROP FUNCTION IF EXISTS dbo.fnGetTop3ProductsForCustomer;"
            ],
            "metadata": {
                "azdata_cell_guid": "c1d7a633-39cd-4129-9d8c-eaddfdf00a91",
                "language": "sql"
            },
            "outputs": [
                {
                    "output_type": "display_data",
                    "data": {
                        "text/html": "Commands completed successfully."
                    },
                    "metadata": {}
                },
                {
                    "output_type": "display_data",
                    "data": {
                        "text/html": "Total execution time: 00:00:00.314"
                    },
                    "metadata": {}
                }
            ],
            "execution_count": 17
        }
    ]
}